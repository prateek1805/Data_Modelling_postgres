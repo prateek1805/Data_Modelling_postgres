{
 "cells": [
  {
   "cell_type": "code",
   "execution_count": 1,
   "metadata": {
    "editable": true
   },
   "outputs": [],
   "source": [
    "import psycopg2\n",
    "from sql_queries import create_table_queries, drop_table_queries"
   ]
  },
  {
   "cell_type": "code",
   "execution_count": 2,
   "metadata": {
    "editable": true
   },
   "outputs": [],
   "source": [
    "try:\n",
    "    conn = psycopg2.connect(\"host=127.0.0.1 dbname=studentdb user=student password=student\")\n",
    "    conn.set_session(autocommit=True)\n",
    "    cur = conn.cursor()\n",
    "    \n",
    "except psycopg2.Error as e: \n",
    "    print(\"Error: Could not make connection to the Postgres database\")\n",
    "    print(e)"
   ]
  },
  {
   "cell_type": "code",
   "execution_count": 3,
   "metadata": {
    "editable": true
   },
   "outputs": [],
   "source": [
    "try:\n",
    "    cur.execute(\"DROP DATABASE IF EXISTS sparkifydb\")\n",
    "    cur.execute(\"CREATE DATABASE sparkifydb WITH ENCODING 'utf8' TEMPLATE template0\")\n",
    "\n",
    "except psycopg2.Error as e: \n",
    "    print(\"Error: Could not make connection to the Postgres database\")\n",
    "    print(e)"
   ]
  },
  {
   "cell_type": "code",
   "execution_count": 4,
   "metadata": {
    "editable": true
   },
   "outputs": [],
   "source": [
    "conn.close() "
   ]
  },
  {
   "cell_type": "code",
   "execution_count": 5,
   "metadata": {
    "editable": true
   },
   "outputs": [],
   "source": [
    "try:\n",
    "    conn = psycopg2.connect(\"host=127.0.0.1 dbname=sparkifydb user=student password=student\")\n",
    "    conn.set_session(autocommit=True)\n",
    "    cur = conn.cursor()\n",
    "    \n",
    "except psycopg2.Error as e: \n",
    "    print(\"Error: Could not make connection to the Postgres database\")\n",
    "    print(e)"
   ]
  },
  {
   "cell_type": "code",
   "execution_count": 6,
   "metadata": {
    "editable": true
   },
   "outputs": [],
   "source": [
    "cur.execute(\"DROP TABLE iF EXISTS Songplays,Users,Songs,Artists,Time\");"
   ]
  },
  {
   "cell_type": "code",
   "execution_count": 7,
   "metadata": {
    "editable": true
   },
   "outputs": [],
   "source": [
    "cur.execute(\"\"\"CREATE TABLE Users(user_id Varchar NOT NULL PRIMARY KEY,\n",
    "                                              first_name Varchar,\n",
    "                                              last_name varchar, \n",
    "                                              gender varchar, \n",
    "                                              level varchar);\"\"\")"
   ]
  },
  {
   "cell_type": "code",
   "execution_count": 8,
   "metadata": {
    "editable": true
   },
   "outputs": [],
   "source": [
    "cur.execute(\"\"\"CREATE TABLE Artists(artist_id Varchar NOT NULL PRIMARY KEY,\n",
    "                                name Varchar,\n",
    "                                location varchar, \n",
    "                                latitude float, \n",
    "                                longitude float);\"\"\")"
   ]
  },
  {
   "cell_type": "code",
   "execution_count": 9,
   "metadata": {
    "editable": true
   },
   "outputs": [],
   "source": [
    "cur.execute(\"\"\"CREATE TABLE Songs(song_id Varchar NOT NULL PRIMARY KEY,\n",
    "                                            title Varchar,\n",
    "\n",
    "                             artist_id Varchar ,\n",
    "                             \n",
    "                             year int,\n",
    "                             duration float);\"\"\")"
   ]
  },
  {
   "cell_type": "code",
   "execution_count": 10,
   "metadata": {
    "editable": true
   },
   "outputs": [],
   "source": [
    "cur.execute(\"\"\"CREATE TABLE Time(start_time timestamp NOT NULL PRIMARY KEY,\n",
    "                                            hour int, \n",
    "                                            day int, week int,\n",
    "                                            month int, \n",
    "                                            year int, \n",
    "                                            weekday int);\"\"\")"
   ]
  },
  {
   "cell_type": "code",
   "execution_count": 11,
   "metadata": {
    "editable": true
   },
   "outputs": [],
   "source": [
    "cur.execute(\"\"\"CREATE TABLE Songplays\n",
    "                (songplay_id varchar NOT NULL PRIMARY KEY,\n",
    "                \n",
    "                 start_time TIMESTAMP CONSTRAINT songplays_time                    \n",
    "                             REFERENCES Time(start_time),\n",
    "                        \n",
    "                  user_id varchar CONSTRAINT songplays_users\n",
    "                           REFERENCES Users(user_id), \n",
    "                        \n",
    "                        level Varchar,\n",
    "                        song_id varchar CONSTRAINT songplays_songs\n",
    "                             REFERENCES Songs(song_id),\n",
    "                        \n",
    "                  artist_id varchar CONSTRAINT songplays_Artists\n",
    "                             REFERENCES Artists(artist_id),\n",
    "                        \n",
    "                  session_id int, location varchar, user_agent varchar);\"\"\")"
   ]
  },
  {
   "cell_type": "code",
   "execution_count": null,
   "metadata": {
    "editable": true
   },
   "outputs": [],
   "source": []
  },
  {
   "cell_type": "code",
   "execution_count": null,
   "metadata": {
    "editable": true
   },
   "outputs": [],
   "source": []
  },
  {
   "cell_type": "code",
   "execution_count": null,
   "metadata": {
    "editable": true
   },
   "outputs": [],
   "source": []
  }
 ],
 "metadata": {
  "kernelspec": {
   "display_name": "Python 3",
   "language": "python",
   "name": "python3"
  },
  "language_info": {
   "codemirror_mode": {
    "name": "ipython",
    "version": 3
   },
   "file_extension": ".py",
   "mimetype": "text/x-python",
   "name": "python",
   "nbconvert_exporter": "python",
   "pygments_lexer": "ipython3",
   "version": "3.6.3"
  }
 },
 "nbformat": 4,
 "nbformat_minor": 4
}
